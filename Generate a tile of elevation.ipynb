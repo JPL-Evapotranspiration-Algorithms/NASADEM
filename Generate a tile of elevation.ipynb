{
 "cells": [
  {
   "cell_type": "code",
   "execution_count": 1,
   "metadata": {},
   "outputs": [],
   "source": [
    "from sentinel_tiles import sentinel_tiles\n",
    "from NASADEM import NASADEM"
   ]
  },
  {
   "cell_type": "code",
   "execution_count": 2,
   "metadata": {},
   "outputs": [
    {
     "data": {
      "text/plain": [
       "{\n",
       "  \"dimensions\": {\n",
       "    \"rows\": 3660,\n",
       "    \"cols\": 3660\n",
       "  },\n",
       "  \"bbox\": {\n",
       "    \"xmin\": 600000.0,\n",
       "    \"ymin\": 3590220.0,\n",
       "    \"xmax\": 709800.0,\n",
       "    \"ymax\": 3700020.0\n",
       "  },\n",
       "  \"crs\": \"EPSG:32611\",\n",
       "  \"resolution\": {\n",
       "    \"cell_width\": 30.0,\n",
       "    \"cell_height\": -30.0\n",
       "  }\n",
       "}"
      ]
     },
     "execution_count": 2,
     "metadata": {},
     "output_type": "execute_result"
    }
   ],
   "source": [
    "tile = sentinel_tiles.grid(\"11SPS\")\n",
    "tile"
   ]
  },
  {
   "cell_type": "code",
   "execution_count": 3,
   "metadata": {},
   "outputs": [
    {
     "name": "stdout",
     "output_type": "stream",
     "text": [
      "[2025-07-08 11:53:12 INFO] acquiring SRTM tile: \u001b[36mn32w115\u001b[0m URL: \u001b[34mhttps://e4ftl01.cr.usgs.gov/MEASURES/NASADEM_HGT.001/2000.02.11/NASADEM_HGT_n32w115.zip\u001b[0m\n",
      "[2025-07-08 11:53:12 INFO] checking metadata: \u001b[34mhttps://e4ftl01.cr.usgs.gov/MEASURES/NASADEM_HGT.001/2000.02.11/NASADEM_HGT_n32w115.zip.xml\u001b[0m\n",
      "\u001b[33m[2025-07-08 11:53:12 WARNING] download not found for metadata URL: https://e4ftl01.cr.usgs.gov/MEASURES/NASADEM_HGT.001/2000.02.11/NASADEM_HGT_n32w115.zip.xml\u001b[0m\n",
      "\u001b[33m[2025-07-08 11:53:12 WARNING] waiting 360 for retry\u001b[0m\n"
     ]
    },
    {
     "name": "stderr",
     "output_type": "stream",
     "text": [
      "File ‘/Users/halverso/data/NASADEM/NASADEM_HGT_n32w115.zip.xml’ already there; not retrieving.\n"
     ]
    },
    {
     "name": "stdout",
     "output_type": "stream",
     "text": [
      "\u001b[33m[2025-07-08 11:59:12 WARNING] download not found for metadata URL: https://e4ftl01.cr.usgs.gov/MEASURES/NASADEM_HGT.001/2000.02.11/NASADEM_HGT_n32w115.zip.xml\u001b[0m\n",
      "\u001b[33m[2025-07-08 11:59:12 WARNING] waiting 360 for retry\u001b[0m\n"
     ]
    },
    {
     "name": "stderr",
     "output_type": "stream",
     "text": [
      "File ‘/Users/halverso/data/NASADEM/NASADEM_HGT_n32w115.zip.xml’ already there; not retrieving.\n"
     ]
    },
    {
     "name": "stdout",
     "output_type": "stream",
     "text": [
      "\u001b[33m[2025-07-08 12:05:12 WARNING] download not found for metadata URL: https://e4ftl01.cr.usgs.gov/MEASURES/NASADEM_HGT.001/2000.02.11/NASADEM_HGT_n32w115.zip.xml\u001b[0m\n",
      "\u001b[33m[2025-07-08 12:05:12 WARNING] waiting 360 for retry\u001b[0m\n"
     ]
    },
    {
     "name": "stderr",
     "output_type": "stream",
     "text": [
      "File ‘/Users/halverso/data/NASADEM/NASADEM_HGT_n32w115.zip.xml’ already there; not retrieving.\n"
     ]
    },
    {
     "name": "stdout",
     "output_type": "stream",
     "text": [
      "\u001b[33m[2025-07-08 12:11:12 WARNING] download not found for metadata URL: https://e4ftl01.cr.usgs.gov/MEASURES/NASADEM_HGT.001/2000.02.11/NASADEM_HGT_n32w115.zip.xml\u001b[0m\n",
      "\u001b[33m[2025-07-08 12:11:12 WARNING] waiting 360 for retry\u001b[0m\n"
     ]
    },
    {
     "name": "stderr",
     "output_type": "stream",
     "text": [
      "File ‘/Users/halverso/data/NASADEM/NASADEM_HGT_n32w115.zip.xml’ already there; not retrieving.\n"
     ]
    },
    {
     "name": "stdout",
     "output_type": "stream",
     "text": [
      "\u001b[33m[2025-07-08 12:17:12 WARNING] download not found for metadata URL: https://e4ftl01.cr.usgs.gov/MEASURES/NASADEM_HGT.001/2000.02.11/NASADEM_HGT_n32w115.zip.xml\u001b[0m\n",
      "\u001b[33m[2025-07-08 12:17:12 WARNING] waiting 360 for retry\u001b[0m\n"
     ]
    },
    {
     "name": "stderr",
     "output_type": "stream",
     "text": [
      "File ‘/Users/halverso/data/NASADEM/NASADEM_HGT_n32w115.zip.xml’ already there; not retrieving.\n"
     ]
    },
    {
     "name": "stdout",
     "output_type": "stream",
     "text": [
      "\u001b[33m[2025-07-08 12:23:12 WARNING] download not found for metadata URL: https://e4ftl01.cr.usgs.gov/MEASURES/NASADEM_HGT.001/2000.02.11/NASADEM_HGT_n32w115.zip.xml\u001b[0m\n",
      "\u001b[33m[2025-07-08 12:23:12 WARNING] waiting 360 for retry\u001b[0m\n"
     ]
    },
    {
     "name": "stderr",
     "output_type": "stream",
     "text": [
      "File ‘/Users/halverso/data/NASADEM/NASADEM_HGT_n32w115.zip.xml’ already there; not retrieving.\n"
     ]
    },
    {
     "ename": "DownloadFailed",
     "evalue": "unable to retrieve metadata URL: https://e4ftl01.cr.usgs.gov/MEASURES/NASADEM_HGT.001/2000.02.11/NASADEM_HGT_n32w115.zip.xml",
     "output_type": "error",
     "traceback": [
      "\u001b[0;31m---------------------------------------------------------------------------\u001b[0m",
      "\u001b[0;31mDownloadFailed\u001b[0m                            Traceback (most recent call last)",
      "Cell \u001b[0;32mIn[3], line 1\u001b[0m\n\u001b[0;32m----> 1\u001b[0m elevation_km \u001b[38;5;241m=\u001b[39m \u001b[43mNASADEM\u001b[49m\u001b[38;5;241;43m.\u001b[39;49m\u001b[43melevation_km\u001b[49m\u001b[43m(\u001b[49m\u001b[43mgeometry\u001b[49m\u001b[38;5;241;43m=\u001b[39;49m\u001b[43mtile\u001b[49m\u001b[43m)\u001b[49m\n\u001b[1;32m      2\u001b[0m elevation_km\n",
      "File \u001b[0;32m~/Projects/NASADEM/NASADEM/NASADEM.py:259\u001b[0m, in \u001b[0;36mNASADEMConnection.elevation_km\u001b[0;34m(self, geometry)\u001b[0m\n\u001b[1;32m    253\u001b[0m \u001b[38;5;28;01mdef\u001b[39;00m\u001b[38;5;250m \u001b[39m\u001b[38;5;21melevation_km\u001b[39m(\u001b[38;5;28mself\u001b[39m, geometry: RasterGeometry) \u001b[38;5;241m-\u001b[39m\u001b[38;5;241m>\u001b[39m Raster:\n\u001b[1;32m    254\u001b[0m \u001b[38;5;250m    \u001b[39m\u001b[38;5;124;03m\"\"\"\u001b[39;00m\n\u001b[1;32m    255\u001b[0m \u001b[38;5;124;03m    digital elevation model (elevation_km) in kilometers from the Shuttle Rader Topography Mission (SRTM)\u001b[39;00m\n\u001b[1;32m    256\u001b[0m \u001b[38;5;124;03m    :param geometry: target geometry\u001b[39;00m\n\u001b[1;32m    257\u001b[0m \u001b[38;5;124;03m    :return: raster of elevation\u001b[39;00m\n\u001b[1;32m    258\u001b[0m \u001b[38;5;124;03m    \"\"\"\u001b[39;00m\n\u001b[0;32m--> 259\u001b[0m     \u001b[38;5;28;01mreturn\u001b[39;00m \u001b[38;5;28;43mself\u001b[39;49m\u001b[38;5;241;43m.\u001b[39;49m\u001b[43melevation_m\u001b[49m\u001b[43m(\u001b[49m\u001b[43mgeometry\u001b[49m\u001b[38;5;241;43m=\u001b[39;49m\u001b[43mgeometry\u001b[49m\u001b[43m)\u001b[49m \u001b[38;5;241m/\u001b[39m \u001b[38;5;241m1000\u001b[39m\n",
      "File \u001b[0;32m~/Projects/NASADEM/NASADEM/NASADEM.py:238\u001b[0m, in \u001b[0;36mNASADEMConnection.elevation_m\u001b[0;34m(self, geometry)\u001b[0m\n\u001b[1;32m    235\u001b[0m \u001b[38;5;28;01mfor\u001b[39;00m tile \u001b[38;5;129;01min\u001b[39;00m tiles:\n\u001b[1;32m    236\u001b[0m     \u001b[38;5;66;03m# logger.info(f\"acquiring SRTM tile {tile}\")\u001b[39;00m\n\u001b[1;32m    237\u001b[0m     \u001b[38;5;28;01mtry\u001b[39;00m:\n\u001b[0;32m--> 238\u001b[0m         granule \u001b[38;5;241m=\u001b[39m \u001b[38;5;28;43mself\u001b[39;49m\u001b[38;5;241;43m.\u001b[39;49m\u001b[43mdownload_tile\u001b[49m\u001b[43m(\u001b[49m\u001b[43mtile\u001b[49m\u001b[43m)\u001b[49m\n\u001b[1;32m    239\u001b[0m     \u001b[38;5;28;01mexcept\u001b[39;00m TileNotAvailable \u001b[38;5;28;01mas\u001b[39;00m e:\n\u001b[1;32m    240\u001b[0m         logger\u001b[38;5;241m.\u001b[39mwarning(e)\n",
      "File \u001b[0;32m~/Projects/NASADEM/NASADEM/NASADEM.py:194\u001b[0m, in \u001b[0;36mNASADEMConnection.download_tile\u001b[0;34m(self, tile)\u001b[0m\n\u001b[1;32m    192\u001b[0m     makedirs(directory, exist_ok\u001b[38;5;241m=\u001b[39m\u001b[38;5;28;01mTrue\u001b[39;00m)\n\u001b[1;32m    193\u001b[0m     logger\u001b[38;5;241m.\u001b[39minfo(\u001b[38;5;124mf\u001b[39m\u001b[38;5;124m\"\u001b[39m\u001b[38;5;124macquiring SRTM tile: \u001b[39m\u001b[38;5;132;01m{\u001b[39;00mcl\u001b[38;5;241m.\u001b[39mval(tile)\u001b[38;5;132;01m}\u001b[39;00m\u001b[38;5;124m URL: \u001b[39m\u001b[38;5;132;01m{\u001b[39;00mcl\u001b[38;5;241m.\u001b[39mURL(URL)\u001b[38;5;132;01m}\u001b[39;00m\u001b[38;5;124m\"\u001b[39m)\n\u001b[0;32m--> 194\u001b[0m     filename \u001b[38;5;241m=\u001b[39m \u001b[38;5;28;43mself\u001b[39;49m\u001b[38;5;241;43m.\u001b[39;49m\u001b[43mdownload_URL\u001b[49m\u001b[43m(\u001b[49m\u001b[43mURL\u001b[49m\u001b[43m,\u001b[49m\u001b[43m \u001b[49m\u001b[43mdirectory\u001b[49m\u001b[43m)\u001b[49m\n\u001b[1;32m    196\u001b[0m granule \u001b[38;5;241m=\u001b[39m NASADEMGranule(filename)\n\u001b[1;32m    198\u001b[0m \u001b[38;5;28;01mreturn\u001b[39;00m granule\n",
      "File \u001b[0;32m~/Projects/NASADEM/NASADEM/LPDAAC/LPDAACDataPool.py:366\u001b[0m, in \u001b[0;36mLPDAACDataPool.download_URL\u001b[0;34m(self, URL, download_location, XML_retries, XML_timeout_seconds, download_retries, download_wait_seconds)\u001b[0m\n\u001b[1;32m    363\u001b[0m         \u001b[38;5;28;01mcontinue\u001b[39;00m\n\u001b[1;32m    365\u001b[0m \u001b[38;5;28;01mif\u001b[39;00m metadata \u001b[38;5;129;01mis\u001b[39;00m \u001b[38;5;28;01mNone\u001b[39;00m:\n\u001b[0;32m--> 366\u001b[0m     \u001b[38;5;28;01mraise\u001b[39;00m DownloadFailed(\u001b[38;5;124mf\u001b[39m\u001b[38;5;124m\"\u001b[39m\u001b[38;5;124munable to retrieve metadata URL: \u001b[39m\u001b[38;5;132;01m{\u001b[39;00mmetadata_URL\u001b[38;5;132;01m}\u001b[39;00m\u001b[38;5;124m\"\u001b[39m)  \u001b[38;5;66;03m# exit code 16\u001b[39;00m\n\u001b[1;32m    368\u001b[0m remote_checksum \u001b[38;5;241m=\u001b[39m \u001b[38;5;28mstr\u001b[39m(\n\u001b[1;32m    369\u001b[0m     metadata[\u001b[38;5;124m\"\u001b[39m\u001b[38;5;124mGranuleMetaDataFile\u001b[39m\u001b[38;5;124m\"\u001b[39m][\u001b[38;5;124m\"\u001b[39m\u001b[38;5;124mGranuleURMetaData\u001b[39m\u001b[38;5;124m\"\u001b[39m][\u001b[38;5;124m\"\u001b[39m\u001b[38;5;124mDataFiles\u001b[39m\u001b[38;5;124m\"\u001b[39m][\u001b[38;5;124m\"\u001b[39m\u001b[38;5;124mDataFileContainer\u001b[39m\u001b[38;5;124m\"\u001b[39m][\u001b[38;5;124m\"\u001b[39m\u001b[38;5;124mChecksum\u001b[39m\u001b[38;5;124m\"\u001b[39m])\n\u001b[1;32m    370\u001b[0m checksum_type \u001b[38;5;241m=\u001b[39m \u001b[38;5;28mstr\u001b[39m(\n\u001b[1;32m    371\u001b[0m     metadata[\u001b[38;5;124m\"\u001b[39m\u001b[38;5;124mGranuleMetaDataFile\u001b[39m\u001b[38;5;124m\"\u001b[39m][\u001b[38;5;124m\"\u001b[39m\u001b[38;5;124mGranuleURMetaData\u001b[39m\u001b[38;5;124m\"\u001b[39m][\u001b[38;5;124m\"\u001b[39m\u001b[38;5;124mDataFiles\u001b[39m\u001b[38;5;124m\"\u001b[39m][\u001b[38;5;124m\"\u001b[39m\u001b[38;5;124mDataFileContainer\u001b[39m\u001b[38;5;124m\"\u001b[39m][\u001b[38;5;124m\"\u001b[39m\u001b[38;5;124mChecksumType\u001b[39m\u001b[38;5;124m\"\u001b[39m])\n",
      "\u001b[0;31mDownloadFailed\u001b[0m: unable to retrieve metadata URL: https://e4ftl01.cr.usgs.gov/MEASURES/NASADEM_HGT.001/2000.02.11/NASADEM_HGT_n32w115.zip.xml"
     ]
    }
   ],
   "source": [
    "elevation_km = NASADEM.elevation_km(geometry=tile)\n",
    "elevation_km"
   ]
  },
  {
   "cell_type": "code",
   "execution_count": null,
   "metadata": {},
   "outputs": [],
   "source": []
  }
 ],
 "metadata": {
  "kernelspec": {
   "display_name": "NASADEM",
   "language": "python",
   "name": "python3"
  },
  "language_info": {
   "codemirror_mode": {
    "name": "ipython",
    "version": 3
   },
   "file_extension": ".py",
   "mimetype": "text/x-python",
   "name": "python",
   "nbconvert_exporter": "python",
   "pygments_lexer": "ipython3",
   "version": "3.10.16"
  }
 },
 "nbformat": 4,
 "nbformat_minor": 2
}
